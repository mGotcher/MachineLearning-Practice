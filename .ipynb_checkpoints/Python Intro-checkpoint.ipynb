{
 "cells": [
  {
   "cell_type": "code",
   "execution_count": 2,
   "id": "60100558",
   "metadata": {},
   "outputs": [
    {
     "data": {
      "text/plain": [
       "(8, 5)"
      ]
     },
     "execution_count": 2,
     "metadata": {},
     "output_type": "execute_result"
    }
   ],
   "source": [
    "\n",
    "def test(A, B):\n",
    "    \n",
    "    a = A\n",
    "    b = B\n",
    "    \n",
    "    # TODO: Below this comment write your code.\n",
    "    c = a\n",
    "    a = b\n",
    "    b = c\n",
    "\n",
    "\n",
    "\n",
    "\n",
    "\n",
    "\n",
    "    # Leave this line alone as well\n",
    "    return (a, b)\n",
    "\n",
    "\n",
    "test(5,8)"
   ]
  },
  {
   "cell_type": "code",
   "execution_count": 6,
   "id": "cbfe256f",
   "metadata": {},
   "outputs": [
    {
     "name": "stdout",
     "output_type": "stream",
     "text": [
      "[2, 6, 12, 14, 43, 78]\n"
     ]
    },
    {
     "data": {
      "text/plain": [
       "[78, 43, 14]"
      ]
     },
     "execution_count": 6,
     "metadata": {},
     "output_type": "execute_result"
    }
   ],
   "source": [
    "def top_three(scores):\n",
    "    scores = scores\n",
    "    \n",
    "    # TODO: Delete this line and replace with your code\n",
    "    scores.sort()\n",
    "    top_scores = [scores[len(scores) - 1],scores[len(scores) - 2], scores[len(scores) - 3] ]\n",
    "\n",
    "    \n",
    "    \n",
    "    # Leave this line alone\n",
    "    return top_scores\n",
    "scores = [43, 12, 6, 78, 2, 14]\n",
    "top_three(scores)"
   ]
  },
  {
   "cell_type": "code",
   "execution_count": 7,
   "id": "aa10115b",
   "metadata": {},
   "outputs": [
    {
     "ename": "ModuleNotFoundError",
     "evalue": "No module named 'life'",
     "output_type": "error",
     "traceback": [
      "\u001b[1;31m---------------------------------------------------------------------------\u001b[0m",
      "\u001b[1;31mModuleNotFoundError\u001b[0m                       Traceback (most recent call last)",
      "\u001b[1;32m~\\AppData\\Local\\Temp\\ipykernel_5952\\1211339754.py\u001b[0m in \u001b[0;36m<module>\u001b[1;34m\u001b[0m\n\u001b[1;32m----> 1\u001b[1;33m \u001b[1;32mimport\u001b[0m \u001b[0mlife\u001b[0m\u001b[1;33m\u001b[0m\u001b[1;33m\u001b[0m\u001b[0m\n\u001b[0m",
      "\u001b[1;31mModuleNotFoundError\u001b[0m: No module named 'life'"
     ]
    }
   ],
   "source": [
    "import life"
   ]
  },
  {
   "cell_type": "code",
   "execution_count": null,
   "id": "63e8be1c",
   "metadata": {},
   "outputs": [],
   "source": []
  }
 ],
 "metadata": {
  "kernelspec": {
   "display_name": "Python 3 (ipykernel)",
   "language": "python",
   "name": "python3"
  },
  "language_info": {
   "codemirror_mode": {
    "name": "ipython",
    "version": 3
   },
   "file_extension": ".py",
   "mimetype": "text/x-python",
   "name": "python",
   "nbconvert_exporter": "python",
   "pygments_lexer": "ipython3",
   "version": "3.9.13"
  }
 },
 "nbformat": 4,
 "nbformat_minor": 5
}
