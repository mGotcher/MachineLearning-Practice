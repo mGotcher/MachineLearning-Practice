{
 "cells": [
  {
   "cell_type": "code",
   "execution_count": 2,
   "id": "3f107036",
   "metadata": {},
   "outputs": [
    {
     "data": {
      "text/plain": [
       "(8, 5)"
      ]
     },
     "execution_count": 2,
     "metadata": {},
     "output_type": "execute_result"
    }
   ],
   "source": [
    "\n",
    "def test(A, B):\n",
    "    \n",
    "    a = A\n",
    "    b = B\n",
    "    \n",
    "    # TODO: Below this comment write your code.\n",
    "    c = a\n",
    "    a = b\n",
    "    b = c\n",
    "\n",
    "\n",
    "\n",
    "\n",
    "\n",
    "\n",
    "    # Leave this line alone as well\n",
    "    return (a, b)\n",
    "\n",
    "\n",
    "test(5,8)"
   ]
  },
  {
   "cell_type": "code",
   "execution_count": 6,
   "id": "c552bc66",
   "metadata": {},
   "outputs": [
    {
     "name": "stdout",
     "output_type": "stream",
     "text": [
      "[2, 6, 12, 14, 43, 78]\n"
     ]
    },
    {
     "data": {
      "text/plain": [
       "[78, 43, 14]"
      ]
     },
     "execution_count": 6,
     "metadata": {},
     "output_type": "execute_result"
    }
   ],
   "source": [
    "def top_three(scores):\n",
    "    scores = scores\n",
    "    \n",
    "    # TODO: Delete this line and replace with your code\n",
    "    scores.sort()\n",
    "    top_scores = [scores[len(scores) - 1],scores[len(scores) - 2], scores[len(scores) - 3] ]\n",
    "\n",
    "    \n",
    "    \n",
    "    # Leave this line alone\n",
    "    return top_scores\n",
    "scores = [43, 12, 6, 78, 2, 14]\n",
    "top_three(scores)"
   ]
  },
  {
   "cell_type": "code",
   "execution_count": 1,
   "id": "7f5264f5",
   "metadata": {},
   "outputs": [],
   "source": [
    "import life"
   ]
  },
  {
   "cell_type": "code",
   "execution_count": 2,
   "id": "39da9523",
   "metadata": {},
   "outputs": [
    {
     "data": {
      "text/plain": [
       "42"
      ]
     },
     "execution_count": 2,
     "metadata": {},
     "output_type": "execute_result"
    }
   ],
   "source": [
    "life.theAnswer"
   ]
  },
  {
   "cell_type": "code",
   "execution_count": 5,
   "id": "ad245b41",
   "metadata": {},
   "outputs": [
    {
     "name": "stdout",
     "output_type": "stream",
     "text": [
      "100\n",
      "50\n",
      "30.48\n",
      "15.24\n"
     ]
    },
    {
     "data": {
      "text/plain": [
       "464.5152"
      ]
     },
     "execution_count": 5,
     "metadata": {},
     "output_type": "execute_result"
    }
   ],
   "source": [
    "# TODO 1: Add two parameters (length_ft and width_ft)\n",
    "def calc_square_meters_from_feet(length_ft, width_ft):\n",
    "    print(length_ft)\n",
    "    print(width_ft)\n",
    "    \n",
    "    # TODO 2: Modify the code below:\n",
    "    metric_area = 0\n",
    "    length_mtr = length_ft * 0.3048\n",
    "    width_mtr = width_ft * 0.3048\n",
    "    metric_area = width_mtr * length_mtr\n",
    "    \n",
    "    \n",
    "\n",
    "    # Leave the line below as it is\n",
    "    return metric_area\n",
    "\n",
    "\n",
    "calc_square_meters_from_feet(100, 50)"
   ]
  },
  {
   "cell_type": "code",
   "execution_count": 6,
   "id": "c84073e6",
   "metadata": {
    "scrolled": false
   },
   "outputs": [
    {
     "name": "stdout",
     "output_type": "stream",
     "text": [
      "The Zen of Python, by Tim Peters\n",
      "\n",
      "Beautiful is better than ugly.\n",
      "Explicit is better than implicit.\n",
      "Simple is better than complex.\n",
      "Complex is better than complicated.\n",
      "Flat is better than nested.\n",
      "Sparse is better than dense.\n",
      "Readability counts.\n",
      "Special cases aren't special enough to break the rules.\n",
      "Although practicality beats purity.\n",
      "Errors should never pass silently.\n",
      "Unless explicitly silenced.\n",
      "In the face of ambiguity, refuse the temptation to guess.\n",
      "There should be one-- and preferably only one --obvious way to do it.\n",
      "Although that way may not be obvious at first unless you're Dutch.\n",
      "Now is better than never.\n",
      "Although never is often better than *right* now.\n",
      "If the implementation is hard to explain, it's a bad idea.\n",
      "If the implementation is easy to explain, it may be a good idea.\n",
      "Namespaces are one honking great idea -- let's do more of those!\n"
     ]
    }
   ],
   "source": [
    "import this"
   ]
  },
  {
   "cell_type": "code",
   "execution_count": 8,
   "id": "2c672d84",
   "metadata": {},
   "outputs": [
    {
     "name": "stdout",
     "output_type": "stream",
     "text": [
      "['a', 'b', 'c', 1, 2, 3]\n"
     ]
    }
   ],
   "source": [
    "#TODO: Write a function called concatenate_lists that has two parameters and returns the combined list. \n",
    "\n",
    "def concatenate_lists(list_one, list_two):\n",
    "    list_master = list_one + list_two\n",
    "    print(list_master)\n",
    "\n",
    "list_one = ['a','b','c']\n",
    "list_two = [1,2,3]\n",
    "concatenate_lists(list_one, list_two)"
   ]
  },
  {
   "cell_type": "code",
   "execution_count": null,
   "id": "434d2ae1",
   "metadata": {},
   "outputs": [],
   "source": []
  },
  {
   "cell_type": "code",
   "execution_count": null,
   "id": "b0376160",
   "metadata": {},
   "outputs": [],
   "source": []
  }
 ],
 "metadata": {
  "kernelspec": {
   "display_name": "Python 3 (ipykernel)",
   "language": "python",
   "name": "python3"
  },
  "language_info": {
   "codemirror_mode": {
    "name": "ipython",
    "version": 3
   },
   "file_extension": ".py",
   "mimetype": "text/x-python",
   "name": "python",
   "nbconvert_exporter": "python",
   "pygments_lexer": "ipython3",
   "version": "3.9.13"
  }
 },
 "nbformat": 4,
 "nbformat_minor": 5
}
